{
 "cells": [
  {
   "cell_type": "code",
   "execution_count": 31,
   "metadata": {},
   "outputs": [],
   "source": [
    "from sklearn.feature_extraction.text import TfidfVectorizer\n",
    "from sklearn.model_selection import train_test_split\n",
    "import pandas as pd\n",
    "from imblearn.over_sampling import SMOTE\n",
    "from sklearn.preprocessing import binarize\n",
    "from sklearn.metrics import accuracy_score, precision_score, recall_score, f1_score, roc_auc_score\n",
    "from sklearn.ensemble import RandomForestClassifier\n",
    "from sklearn.linear_model import LogisticRegression\n",
    "from sklearn.model_selection import train_test_split\n",
    "from xgboost import XGBClassifier\n"
   ]
  },
  {
   "cell_type": "code",
   "execution_count": 32,
   "metadata": {},
   "outputs": [
    {
     "data": {
      "text/html": [
       "<div>\n",
       "<style scoped>\n",
       "    .dataframe tbody tr th:only-of-type {\n",
       "        vertical-align: middle;\n",
       "    }\n",
       "\n",
       "    .dataframe tbody tr th {\n",
       "        vertical-align: top;\n",
       "    }\n",
       "\n",
       "    .dataframe thead th {\n",
       "        text-align: right;\n",
       "    }\n",
       "</style>\n",
       "<table border=\"1\" class=\"dataframe\">\n",
       "  <thead>\n",
       "    <tr style=\"text-align: right;\">\n",
       "      <th></th>\n",
       "      <th>index</th>\n",
       "      <th>Opcodes</th>\n",
       "      <th>Label</th>\n",
       "    </tr>\n",
       "  </thead>\n",
       "  <tbody>\n",
       "    <tr>\n",
       "      <th>0</th>\n",
       "      <td>0</td>\n",
       "      <td>PUSH1 PUSH1 MSTORE PUSH1 CALLDATASIZE LT PUSH2...</td>\n",
       "      <td>0</td>\n",
       "    </tr>\n",
       "    <tr>\n",
       "      <th>1</th>\n",
       "      <td>1</td>\n",
       "      <td>PUSH1 PUSH1 MSTORE PUSH1 CALLDATASIZE LT PUSH2...</td>\n",
       "      <td>0</td>\n",
       "    </tr>\n",
       "    <tr>\n",
       "      <th>2</th>\n",
       "      <td>2</td>\n",
       "      <td>PUSH1 PUSH1 MSTORE PUSH1 CALLDATASIZE LT PUSH2...</td>\n",
       "      <td>0</td>\n",
       "    </tr>\n",
       "    <tr>\n",
       "      <th>3</th>\n",
       "      <td>3</td>\n",
       "      <td>PUSH1 PUSH1 MSTORE PUSH1 CALLDATASIZE LT PUSH2...</td>\n",
       "      <td>0</td>\n",
       "    </tr>\n",
       "    <tr>\n",
       "      <th>4</th>\n",
       "      <td>4</td>\n",
       "      <td>PUSH1 PUSH1 MSTORE PUSH1 CALLDATASIZE LT PUSH2...</td>\n",
       "      <td>0</td>\n",
       "    </tr>\n",
       "    <tr>\n",
       "      <th>...</th>\n",
       "      <td>...</td>\n",
       "      <td>...</td>\n",
       "      <td>...</td>\n",
       "    </tr>\n",
       "    <tr>\n",
       "      <th>2087</th>\n",
       "      <td>2130</td>\n",
       "      <td>PUSH1 PUSH1 MSTORE CALLVALUE DUP1 ISZERO PUSH2...</td>\n",
       "      <td>1</td>\n",
       "    </tr>\n",
       "    <tr>\n",
       "      <th>2088</th>\n",
       "      <td>2131</td>\n",
       "      <td>PUSH1 PUSH1 MSTORE CALLVALUE DUP1 ISZERO PUSH2...</td>\n",
       "      <td>1</td>\n",
       "    </tr>\n",
       "    <tr>\n",
       "      <th>2089</th>\n",
       "      <td>2132</td>\n",
       "      <td>PUSH1 PUSH1 MSTORE CALLVALUE DUP1 ISZERO PUSH2...</td>\n",
       "      <td>1</td>\n",
       "    </tr>\n",
       "    <tr>\n",
       "      <th>2090</th>\n",
       "      <td>2134</td>\n",
       "      <td>PUSH1 PUSH1 MSTORE PUSH1 CALLDATASIZE LT PUSH2...</td>\n",
       "      <td>1</td>\n",
       "    </tr>\n",
       "    <tr>\n",
       "      <th>2091</th>\n",
       "      <td>2137</td>\n",
       "      <td>PUSH1 PUSH1 MSTORE PUSH1 CALLDATASIZE LT PUSH2...</td>\n",
       "      <td>1</td>\n",
       "    </tr>\n",
       "  </tbody>\n",
       "</table>\n",
       "<p>2092 rows × 3 columns</p>\n",
       "</div>"
      ],
      "text/plain": [
       "      index                                            Opcodes  Label\n",
       "0         0  PUSH1 PUSH1 MSTORE PUSH1 CALLDATASIZE LT PUSH2...      0\n",
       "1         1  PUSH1 PUSH1 MSTORE PUSH1 CALLDATASIZE LT PUSH2...      0\n",
       "2         2  PUSH1 PUSH1 MSTORE PUSH1 CALLDATASIZE LT PUSH2...      0\n",
       "3         3  PUSH1 PUSH1 MSTORE PUSH1 CALLDATASIZE LT PUSH2...      0\n",
       "4         4  PUSH1 PUSH1 MSTORE PUSH1 CALLDATASIZE LT PUSH2...      0\n",
       "...     ...                                                ...    ...\n",
       "2087   2130  PUSH1 PUSH1 MSTORE CALLVALUE DUP1 ISZERO PUSH2...      1\n",
       "2088   2131  PUSH1 PUSH1 MSTORE CALLVALUE DUP1 ISZERO PUSH2...      1\n",
       "2089   2132  PUSH1 PUSH1 MSTORE CALLVALUE DUP1 ISZERO PUSH2...      1\n",
       "2090   2134  PUSH1 PUSH1 MSTORE PUSH1 CALLDATASIZE LT PUSH2...      1\n",
       "2091   2137  PUSH1 PUSH1 MSTORE PUSH1 CALLDATASIZE LT PUSH2...      1\n",
       "\n",
       "[2092 rows x 3 columns]"
      ]
     },
     "execution_count": 32,
     "metadata": {},
     "output_type": "execute_result"
    }
   ],
   "source": [
    "df = pd.read_csv('data/small_dataset.csv', index_col=0)\n",
    "df"
   ]
  },
  {
   "cell_type": "code",
   "execution_count": 34,
   "metadata": {},
   "outputs": [],
   "source": [
    "# transform opcodes to tf-idf vectors\n",
    "vectorizer = TfidfVectorizer(ngram_range=(1, 4))\n",
    "\n",
    "X = vectorizer.fit_transform(df['Opcodes'])\n",
    "\n",
    "X_train, X_test, y_train, y_test = train_test_split(X, df['Label'], test_size=0.2, random_state=1)"
   ]
  },
  {
   "attachments": {},
   "cell_type": "markdown",
   "metadata": {},
   "source": [
    "Using SMOTE to deal with imbalanced data and comparing Logistic Reggression, Random Forset and XGboost"
   ]
  },
  {
   "cell_type": "code",
   "execution_count": 35,
   "metadata": {},
   "outputs": [
    {
     "name": "stdout",
     "output_type": "stream",
     "text": [
      "                 Model  Accuracy  Precision    Recall  F1 Score       AUC\n",
      "0  Logistic Regression  0.618138   0.075145  1.000000  0.139785  0.802956\n",
      "1        Random Forest  0.976134   0.578947  0.846154  0.687500  0.913225\n",
      "2              XGBoost  0.980907   0.647059  0.846154  0.733333  0.915688\n"
     ]
    }
   ],
   "source": [
    "# Use SMOTE to oversample the minority class to get balanced training data\n",
    "smote = SMOTE(random_state=1)\n",
    "X_train_smote, y_train_smote = smote.fit_resample(X_train, y_train)\n",
    "\n",
    "# Re-train the classifiers with the balanced data\n",
    "classifiers = [LogisticRegression(), RandomForestClassifier(), XGBClassifier()]\n",
    "model_names = [\"Logistic Regression\", \"Random Forest\", \"XGBoost\"]\n",
    "results = {\"Model\": [], \"Accuracy\": [], \"Precision\": [], \"Recall\": [], \"F1 Score\": [], \"AUC\": []}\n",
    "\n",
    "for clf, model_name in zip(classifiers, model_names):\n",
    "    clf.fit(X_train_smote, y_train_smote)\n",
    "    \n",
    "    # Change the prediction threshold to 0.3 to make the model predict the positive class more often\n",
    "    y_pred = (clf.predict_proba(X_test)[:, 1] > 0.3).astype(int)\n",
    "    \n",
    "    results[\"Model\"].append(model_name)\n",
    "    results[\"Accuracy\"].append(accuracy_score(y_test, y_pred))\n",
    "    results[\"Precision\"].append(precision_score(y_test, y_pred))\n",
    "    results[\"Recall\"].append(recall_score(y_test, y_pred))\n",
    "    results[\"F1 Score\"].append(f1_score(y_test, y_pred))\n",
    "    results[\"AUC\"].append(roc_auc_score(y_test, y_pred))\n",
    "\n",
    "# Print the results\n",
    "results_df = pd.DataFrame(results)\n",
    "print(results_df)"
   ]
  },
  {
   "cell_type": "code",
   "execution_count": 36,
   "metadata": {},
   "outputs": [],
   "source": [
    "import pickle\n",
    "\n",
    "# Assuming that logistic_model, rf_model, xgb_model, and tfidf are already defined\n",
    "\n",
    "with open('weights/logistic_model.pkl', 'wb') as f:\n",
    "    pickle.dump(classifiers[0], f)\n",
    "\n",
    "with open('weights/rf_model.pkl', 'wb') as f:\n",
    "    pickle.dump(classifiers[1], f)\n",
    "\n",
    "with open('weights/xgb_model.pkl', 'wb') as f:\n",
    "    pickle.dump(classifiers[2], f)\n",
    "    \n",
    "with open('weights/tfidf.pkl', 'wb') as f:\n",
    "    pickle.dump(vectorizer, f)"
   ]
  }
 ],
 "metadata": {
  "kernelspec": {
   "display_name": "ml2",
   "language": "python",
   "name": "python3"
  },
  "language_info": {
   "codemirror_mode": {
    "name": "ipython",
    "version": 3
   },
   "file_extension": ".py",
   "mimetype": "text/x-python",
   "name": "python",
   "nbconvert_exporter": "python",
   "pygments_lexer": "ipython3",
   "version": "3.11.3"
  },
  "orig_nbformat": 4
 },
 "nbformat": 4,
 "nbformat_minor": 2
}
