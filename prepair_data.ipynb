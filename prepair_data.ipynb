{
 "cells": [
  {
   "cell_type": "code",
   "execution_count": 15,
   "metadata": {},
   "outputs": [],
   "source": [
    "import json\n",
    "import numpy as np\n",
    "from web3 import Web3, HTTPProvider\n",
    "from pyevmasm import disassemble_hex\n",
    "from dotenv import load_dotenv\n",
    "from sklearn.feature_extraction.text import TfidfVectorizer\n",
    "import os\n",
    "import pandas as pd\n",
    "# Load environment variables from .env file\n",
    "load_dotenv()\n",
    "FAST_NODE_URL=os.getenv('FAST_NODE_URL')  "
   ]
  },
  {
   "cell_type": "code",
   "execution_count": 16,
   "metadata": {},
   "outputs": [],
   "source": [
    "# load addresses from json and numpy files\n",
    "with open('data/valdiated_addresses.json', 'r') as f:\n",
    "    valid_addresses = json.load(f)\n",
    "\n",
    "malicious_addresses = np.load('data/malicious_addresses.npy', allow_pickle=True)"
   ]
  },
  {
   "cell_type": "code",
   "execution_count": 17,
   "metadata": {},
   "outputs": [
    {
     "data": {
      "text/plain": [
       "True"
      ]
     },
     "execution_count": 17,
     "metadata": {},
     "output_type": "execute_result"
    }
   ],
   "source": [
    "# connect to Ethereum node\n",
    "w3 = Web3(HTTPProvider(FAST_NODE_URL))\n",
    "w3.is_connected()"
   ]
  },
  {
   "cell_type": "code",
   "execution_count": 18,
   "metadata": {},
   "outputs": [],
   "source": [
    "short_valid = valid_addresses[0:2000]\n",
    "short_mal = malicious_addresses\n",
    "\n",
    "# function to get bytecode and parse to opcodes\n",
    "def get_opcodes(address):\n",
    "    check_address= w3.to_checksum_address(address)\n",
    "    bytecode = w3.eth.get_code(check_address).hex()[2:]\n",
    "    instructions = disassemble_hex(bytecode)\n",
    "    instructions = instructions.split('\\n')\n",
    "    return ' '.join(instr.split(' ')[0] for instr in instructions)\n",
    "\n",
    "# get opcodes for each contract\n",
    "valid_opcodes = [get_opcodes(addr['address']) for addr in short_valid]\n",
    "malicious_opcodes = [get_opcodes(addr) for addr in short_mal]\n",
    "\n",
    "\n",
    "\n",
    "# create labels: 0 for valid, 1 for malicious\n",
    "valid_labels = [0]*len(valid_opcodes)\n",
    "malicious_labels = [1]*len(malicious_opcodes)\n",
    "\n",
    "# join opcodes and labels\n",
    "all_opcodes = valid_opcodes + malicious_opcodes\n",
    "all_labels = valid_labels + malicious_labels"
   ]
  },
  {
   "cell_type": "code",
   "execution_count": 29,
   "metadata": {},
   "outputs": [],
   "source": [
    "df = pd.DataFrame({\n",
    "    'Opcodes': all_opcodes,\n",
    "    'Label': all_labels\n",
    "})\n",
    "df = df[df['Opcodes'].notnull() & (df['Opcodes'].str.len() > 0)]\n",
    "df.reset_index(inplace=True)\n",
    "df.to_csv('./data/small_dataset.csv')"
   ]
  }
 ],
 "metadata": {
  "kernelspec": {
   "display_name": "ml2",
   "language": "python",
   "name": "python3"
  },
  "language_info": {
   "codemirror_mode": {
    "name": "ipython",
    "version": 3
   },
   "file_extension": ".py",
   "mimetype": "text/x-python",
   "name": "python",
   "nbconvert_exporter": "python",
   "pygments_lexer": "ipython3",
   "version": "3.11.3"
  },
  "orig_nbformat": 4
 },
 "nbformat": 4,
 "nbformat_minor": 2
}
