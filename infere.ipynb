{
 "cells": [
  {
   "cell_type": "code",
   "execution_count": null,
   "metadata": {},
   "outputs": [],
   "source": [
    "import gradio as gr\n"
   ]
  },
  {
   "cell_type": "code",
   "execution_count": null,
   "metadata": {},
   "outputs": [],
   "source": [
    "def predict(address):\n",
    "    # Load models and tfidf vectorizer\n",
    "    with open('logistic_model.pkl', 'rb') as f:\n",
    "        logistic_model = pickle.load(f)\n",
    "    with open('rf_model.pkl', 'rb') as f:\n",
    "        rf_model = pickle.load(f)\n",
    "    with open('xgb_model.pkl', 'rb') as f:\n",
    "        xgb_model = pickle.load(f)\n",
    "    with open('tfidf.pkl', 'rb') as f:\n",
    "        tfidf = pickle.load(f)\n",
    "    \n",
    "    # Get bytecode\n",
    "    bytecode = get_bytecode(address)\n",
    "    # Parse into opcodes\n",
    "    opcodes = disassemble(bytecode)\n",
    "    # Vectorize\n",
    "    opcodes_vectorized = tfidf.transform([opcodes])\n",
    "    \n",
    "    # Make predictions\n",
    "    logistic_prediction = logistic_model.predict_proba(opcodes_vectorized)[0]\n",
    "    rf_prediction = rf_model.predict_proba(opcodes_vectorized)[0]\n",
    "    xgb_prediction = xgb_model.predict_proba(opcodes_vectorized)[0]\n",
    "    \n",
    "    return {'Logistic Regression': logistic_prediction, 'Random Forest': rf_prediction, 'XGBoost': xgb_prediction}\n"
   ]
  },
  {
   "cell_type": "code",
   "execution_count": null,
   "metadata": {},
   "outputs": [],
   "source": [
    "iface = gr.Interface(fn=predict, inputs='text', outputs='json', title='Ethereum Contract Classification')\n",
    "iface.launch()"
   ]
  }
 ],
 "metadata": {
  "language_info": {
   "name": "python"
  },
  "orig_nbformat": 4
 },
 "nbformat": 4,
 "nbformat_minor": 2
}
