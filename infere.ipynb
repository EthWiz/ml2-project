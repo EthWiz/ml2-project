{
 "cells": [
  {
   "cell_type": "code",
   "execution_count": 24,
   "metadata": {},
   "outputs": [],
   "source": [
    "import gradio as gr\n",
    "import numpy as np\n",
    "from web3 import Web3, HTTPProvider\n",
    "from pyevmasm import disassemble_hex\n",
    "from dotenv import load_dotenv\n",
    "import os\n",
    "import pickle\n",
    "load_dotenv()\n",
    "INFURA_URL=os.getenv('INFURA_URL') \n"
   ]
  },
  {
   "cell_type": "code",
   "execution_count": 25,
   "metadata": {},
   "outputs": [],
   "source": [
    "w3 = Web3(HTTPProvider(INFURA_URL))"
   ]
  },
  {
   "cell_type": "code",
   "execution_count": 26,
   "metadata": {},
   "outputs": [],
   "source": [
    "def predict(address):\n",
    "    # Load models and tfidf vectorizer\n",
    "    with open('./weights/logistic_model.pkl', 'rb') as f:\n",
    "        logistic_model = pickle.load(f)\n",
    "    with open('./weights/rf_model.pkl', 'rb') as f:\n",
    "        rf_model = pickle.load(f)\n",
    "    with open('./weights/xgb_model.pkl', 'rb') as f:\n",
    "        xgb_model = pickle.load(f)\n",
    "    with open('./weights/tfidf.pkl', 'rb') as f:\n",
    "        tfidf = pickle.load(f)\n",
    "    \n",
    "    def get_opcodes(address):\n",
    "        check_address= w3.to_checksum_address(address)\n",
    "        bytecode = w3.eth.get_code(check_address).hex()[2:]\n",
    "        instructions = disassemble_hex(bytecode)\n",
    "        instructions = instructions.split('\\n')\n",
    "        return ' '.join(instr.split(' ')[0] for instr in instructions)\n",
    "\n",
    "    opcodes = get_opcodes(address)\n",
    "    # Vectorize\n",
    "    opcodes_vectorized = tfidf.transform([opcodes])\n",
    "\n",
    "    # Make predictions\n",
    "    logistic_prediction = logistic_model.predict_proba(opcodes_vectorized)[0][1].item()\n",
    "    rf_prediction = rf_model.predict_proba(opcodes_vectorized)[0][1].item()\n",
    "    xgb_prediction = xgb_model.predict_proba(opcodes_vectorized)[0][1].item()\n",
    "    \n",
    "    # Create classification based on the prediction\n",
    "    logistic_classification = 'valid' if logistic_prediction < 0.5 else 'malicious'\n",
    "    rf_classification = 'valid' if rf_prediction < 0.5 else 'malicious'\n",
    "    xgb_classification = 'valid' if xgb_prediction < 0.5 else 'malicious'\n",
    "\n",
    "    return {\n",
    "        'Logistic Regression': {\n",
    "            'prediction': logistic_prediction, \n",
    "            'classification': logistic_classification\n",
    "        }, \n",
    "        'Random Forest': {\n",
    "            'prediction': rf_prediction, \n",
    "            'classification': rf_classification\n",
    "        }, \n",
    "        'XGBoost': {\n",
    "            'prediction': xgb_prediction, \n",
    "            'classification': xgb_classification\n",
    "        }\n",
    "    }"
   ]
  },
  {
   "cell_type": "code",
   "execution_count": 27,
   "metadata": {},
   "outputs": [
    {
     "name": "stdout",
     "output_type": "stream",
     "text": [
      "Running on local URL:  http://127.0.0.1:7871\n",
      "\n",
      "To create a public link, set `share=True` in `launch()`.\n"
     ]
    },
    {
     "data": {
      "text/html": [
       "<div><iframe src=\"http://127.0.0.1:7871/\" width=\"100%\" height=\"500\" allow=\"autoplay; camera; microphone; clipboard-read; clipboard-write;\" frameborder=\"0\" allowfullscreen></iframe></div>"
      ],
      "text/plain": [
       "<IPython.core.display.HTML object>"
      ]
     },
     "metadata": {},
     "output_type": "display_data"
    },
    {
     "data": {
      "text/plain": []
     },
     "execution_count": 27,
     "metadata": {},
     "output_type": "execute_result"
    }
   ],
   "source": [
    "iface = gr.Interface(fn=predict, inputs='text', outputs='json', title='Ethereum Contract Classification', examples=[\n",
    "    ['0x6B3595068778DD592e39A122f4f5a5cF09C90fE2'],  # Valid contract address example\n",
    "    ['0x69692D3345010a207b759a7D1af6fc7F38b35c5E']   # Malicious contract address example\n",
    "])\n",
    "iface.launch()"
   ]
  }
 ],
 "metadata": {
  "kernelspec": {
   "display_name": "ml2",
   "language": "python",
   "name": "python3"
  },
  "language_info": {
   "codemirror_mode": {
    "name": "ipython",
    "version": 3
   },
   "file_extension": ".py",
   "mimetype": "text/x-python",
   "name": "python",
   "nbconvert_exporter": "python",
   "pygments_lexer": "ipython3",
   "version": "3.11.3"
  },
  "orig_nbformat": 4
 },
 "nbformat": 4,
 "nbformat_minor": 2
}
